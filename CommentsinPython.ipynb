{
 "cells": [
  {
   "cell_type": "code",
   "execution_count": 1,
   "metadata": {},
   "outputs": [],
   "source": [
    "##compilter runs the code once ode writing is done, while interprer interpretes while we qutote , line by line\n",
    "\n",
    "##comments are line which are ignored by python interpreter. which means interpreter does not run comments. \n",
    "# represents one line comment .\n"
   ]
  },
  {
   "cell_type": "code",
   "execution_count": 2,
   "metadata": {},
   "outputs": [
    {
     "output_type": "stream",
     "name": "stdout",
     "text": [
      "9000\n"
     ]
    }
   ],
   "source": [
    "# this scripte calcultate the miles travel\n",
    "\n",
    "miles_travelled = 9000\n",
    "print(miles_travelled)\n",
    "##averge speed =  displace / change in time \n",
    "\n",
    " # first get displacement \n",
    "\n",
    " displacement = 450  ##km\n",
    "###get the change in time \n",
    "\n",
    "change in itme = 6 #hours\n",
    "\n",
    "#calculate avearge speed."
   ]
  },
  {
   "cell_type": "code",
   "execution_count": null,
   "metadata": {},
   "outputs": [],
   "source": [
    "# lets calculate the distance travelled \n",
    "#distance = speed * time \n",
    "\n",
    "speed =   100 # in km\n",
    "# lets define"
   ]
  }
 ],
 "metadata": {
  "kernelspec": {
   "name": "python385jvsc74a57bd07feb4705c68ae6516b089deea33a5828fe4d228922a7169027787f754ef2f937",
   "display_name": "Python 3.8.5 64-bit ('base': conda)"
  }
 },
 "nbformat": 4,
 "nbformat_minor": 4
}