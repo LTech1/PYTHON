{
 "cells": [
  {
   "cell_type": "code",
   "execution_count": 1,
   "metadata": {},
   "outputs": [],
   "source": [
    "##compilter runs the code once ode writing is done, while interprer interpretes while we qutote , line by line\n",
    "\n",
    "##comments are line which are ignored by python interpreter. which means interpreter does not run comments. \n",
    "# represents one line comment .\n"
   ]
  },
  {
   "cell_type": "code",
   "execution_count": 2,
   "metadata": {},
   "outputs": [
    {
     "output_type": "stream",
     "name": "stdout",
     "text": [
      "9000\n"
     ]
    }
   ],
   "source": [
    "# this scripte calcultate the miles travel\n",
    "\n",
    "miles_travelled = 9000\n",
    "print(miles_travelled)\n",
    "##averge speed =  displace / change in time \n",
    "\n",
    " # first get displacement \n",
    "\n",
    " displacement = 450  ##km\n",
    "###get the change in time \n",
    "\n",
    "change in itme = 6 #hours\n",
    "\n",
    "#calculate avearge speed."
   ]
  },
  {
   "cell_type": "code",
   "execution_count": 3,
   "metadata": {},
   "outputs": [
    {
     "output_type": "stream",
     "name": "stdout",
     "text": [
      "100\n"
     ]
    }
   ],
   "source": [
    "# lets calculate the distance travelled \n",
    "#distance = speed * time \n",
    "\n",
    "speed =   100 # in km\n",
    "# lets define\n",
    "print (speed)"
   ]
  },
  {
   "cell_type": "code",
   "execution_count": 4,
   "metadata": {},
   "outputs": [
    {
     "output_type": "execute_result",
     "data": {
      "text/plain": [
       "'\\nmultiline comments in python are created via two tripple double cquotes\\n\\n\\n'"
      ]
     },
     "metadata": {},
     "execution_count": 4
    }
   ],
   "source": [
    "##multi line commendts\n",
    "\"\"\"\n",
    "multiline comments in python are created via two tripple double cquotes\n",
    "\n",
    "\n",
    "\"\"\""
   ]
  },
  {
   "cell_type": "code",
   "execution_count": 18,
   "metadata": {},
   "outputs": [
    {
     "output_type": "stream",
     "name": "stdout",
     "text": [
      "Elvis 1 \njoice 2   \nLine 3\nhello my \n\n"
     ]
    }
   ],
   "source": [
    "multi_line_text = \"Elvis 1 \\njoice 2   \\nLine 3\"\n",
    "\n",
    "print(multi_line_text)\n",
    "\n",
    "print(\"hello my \\n\")"
   ]
  },
  {
   "cell_type": "code",
   "execution_count": 19,
   "metadata": {},
   "outputs": [
    {
     "output_type": "stream",
     "name": "stdout",
     "text": [
      "{'name': 'elvis', 'gender': 'male', 'emailID': 'elvisnketi@gmail.com', 'student': 'jame', 'city': 'Orilia'}\n"
     ]
    }
   ],
   "source": [
    "Landmark_student_numbers = {\n",
    "    \"name\" : \"elvis\",\n",
    "    \"gender\" : \"male\",\n",
    "    \"emailID\" : \"elvisnketi@gmail.com\",\n",
    "    \"student\" :  \"jame\",\n",
    "    \"city\"   : \"Orilia\"\n",
    " \n",
    "}\n",
    "\n",
    "print(Landmark_student_numbers)"
   ]
  },
  {
   "cell_type": "code",
   "execution_count": 22,
   "metadata": {},
   "outputs": [
    {
     "output_type": "stream",
     "name": "stdout",
     "text": [
      "12.0\n6800000.0\n"
     ]
    }
   ],
   "source": [
    "p = 8\n",
    "p = p *3\n",
    "\n",
    "p /=2\n",
    "\n",
    "print(p)\n",
    "\n",
    "price = 400000\n",
    "\n",
    "price = price * 34 \n",
    "\n",
    "price /=2\n",
    "\n",
    "print(price)"
   ]
  },
  {
   "cell_type": "code",
   "execution_count": 29,
   "metadata": {},
   "outputs": [
    {
     "output_type": "stream",
     "name": "stdout",
     "text": [
      "{'elcis,prince', 'eric'}\n"
     ]
    },
    {
     "output_type": "execute_result",
     "data": {
      "text/plain": [
       "2"
      ]
     },
     "metadata": {},
     "execution_count": 29
    }
   ],
   "source": [
    "wonders_group = set([\"eric\" ,  \"elcis,\"  \"prince\"])\n",
    "print(wonders_group)\n",
    "\n",
    "type(wonders_group)\n",
    "len(wonders_group)"
   ]
  },
  {
   "cell_type": "code",
   "execution_count": null,
   "metadata": {},
   "outputs": [],
   "source": []
  }
 ],
 "metadata": {
  "kernelspec": {
   "name": "python385jvsc74a57bd07feb4705c68ae6516b089deea33a5828fe4d228922a7169027787f754ef2f937",
   "display_name": "Python 3.8.5 64-bit ('base': conda)"
  }
 },
 "nbformat": 4,
 "nbformat_minor": 4
}