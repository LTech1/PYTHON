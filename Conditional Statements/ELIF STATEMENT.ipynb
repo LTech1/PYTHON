{
 "cells": [
  {
   "cell_type": "code",
   "execution_count": 1,
   "metadata": {},
   "outputs": [
    {
     "output_type": "error",
     "ename": "SyntaxError",
     "evalue": "invalid syntax (<ipython-input-1-f1540a776f25>, line 10)",
     "traceback": [
      "\u001b[1;36m  File \u001b[1;32m\"<ipython-input-1-f1540a776f25>\"\u001b[1;36m, line \u001b[1;32m10\u001b[0m\n\u001b[1;33m    elif:\u001b[0m\n\u001b[1;37m        ^\u001b[0m\n\u001b[1;31mSyntaxError\u001b[0m\u001b[1;31m:\u001b[0m invalid syntax\n"
     ]
    }
   ],
   "source": [
    "#elif  (el ( else)) elif ( else if)\n",
    "##ask a user to enter a number \n",
    "##\n",
    "\n",
    "def item_price():\n",
    "    user_input = input(\"please enter a price/n\")\n",
    "    price = int(user_input)\n",
    "    if price > 0:\n",
    "        print(\"you got the item\")\n",
    "    elif:\n",
    "        price == 0:\n",
    "        print(\"thank you, but try again next time\")\n",
    "    elif:\n",
    "        price < 0:\n",
    "        print(\"you are out\")\n",
    "    else:\n",
    "        print(\"welcome to wonderland\")"
   ]
  },
  {
   "cell_type": "code",
   "execution_count": 2,
   "metadata": {},
   "outputs": [
    {
     "output_type": "error",
     "ename": "NameError",
     "evalue": "name 'item_price' is not defined",
     "traceback": [
      "\u001b[1;31m---------------------------------------------------------------------------\u001b[0m",
      "\u001b[1;31mNameError\u001b[0m                                 Traceback (most recent call last)",
      "\u001b[1;32m<ipython-input-2-33125cd2acff>\u001b[0m in \u001b[0;36m<module>\u001b[1;34m\u001b[0m\n\u001b[1;32m----> 1\u001b[1;33m \u001b[0mitem_price\u001b[0m\u001b[1;33m(\u001b[0m\u001b[1;33m)\u001b[0m\u001b[1;33m\u001b[0m\u001b[1;33m\u001b[0m\u001b[0m\n\u001b[0m",
      "\u001b[1;31mNameError\u001b[0m: name 'item_price' is not defined"
     ]
    }
   ],
   "source": [
    "item_price()"
   ]
  },
  {
   "cell_type": "code",
   "execution_count": 3,
   "metadata": {},
   "outputs": [],
   "source": [
    "##ask \n",
    "\n",
    "price = input(\"please enter a price\")"
   ]
  },
  {
   "cell_type": "code",
   "execution_count": 8,
   "metadata": {},
   "outputs": [
    {
     "output_type": "stream",
     "name": "stdout",
     "text": [
      "congratulations\n"
     ]
    }
   ],
   "source": [
    "def student_grade():\n",
    "    grade = input(\"please enter your last term grade\")\n",
    "    n = int(grade)\n",
    "    if n > 0:\n",
    "        print(\"congratulations\")\n",
    "    elif n ==0:\n",
    "        print(\"you must repeat term\")\n",
    "    elif n <90:\n",
    "        print(\"you obtained a pass\")\n",
    "    else:\n",
    "        print(\"welcome to seneca\")\n",
    "student_grade()"
   ]
  },
  {
   "cell_type": "code",
   "execution_count": 9,
   "metadata": {},
   "outputs": [
    {
     "output_type": "stream",
     "name": "stdout",
     "text": [
      "congratulations\n"
     ]
    }
   ],
   "source": [
    "student_grade()"
   ]
  },
  {
   "cell_type": "code",
   "execution_count": 10,
   "metadata": {},
   "outputs": [
    {
     "output_type": "stream",
     "name": "stdout",
     "text": [
      "congratulations\n"
     ]
    }
   ],
   "source": [
    "student_grade()"
   ]
  },
  {
   "cell_type": "code",
   "execution_count": 13,
   "metadata": {},
   "outputs": [
    {
     "output_type": "error",
     "ename": "SyntaxError",
     "evalue": "invalid syntax (<ipython-input-13-2aaeffa52415>, line 5)",
     "traceback": [
      "\u001b[1;36m  File \u001b[1;32m\"<ipython-input-13-2aaeffa52415>\"\u001b[1;36m, line \u001b[1;32m5\u001b[0m\n\u001b[1;33m    elif:\u001b[0m\n\u001b[1;37m        ^\u001b[0m\n\u001b[1;31mSyntaxError\u001b[0m\u001b[1;31m:\u001b[0m invalid syntax\n"
     ]
    }
   ],
   "source": [
    "def price_item():\n",
    "    price = 1000\n",
    "if price ==800:\n",
    "    print(\"please top up\")\n",
    "elif:\n",
    "    price >1000:\n",
    "    print(\"you deserve and accoate\")\n",
    "\n",
    "price_item()"
   ]
  },
  {
   "cell_type": "code",
   "execution_count": 20,
   "metadata": {},
   "outputs": [
    {
     "output_type": "error",
     "ename": "SyntaxError",
     "evalue": "invalid syntax (<ipython-input-20-f1c250eed547>, line 4)",
     "traceback": [
      "\u001b[1;36m  File \u001b[1;32m\"<ipython-input-20-f1c250eed547>\"\u001b[1;36m, line \u001b[1;32m4\u001b[0m\n\u001b[1;33m    if win =100:\u001b[0m\n\u001b[1;37m           ^\u001b[0m\n\u001b[1;31mSyntaxError\u001b[0m\u001b[1;31m:\u001b[0m invalid syntax\n"
     ]
    }
   ],
   "source": [
    "def pick_number():\n",
    "    luck_numer = input(\"please enter a number\")\n",
    "    win = (\"luck_numer\")\n",
    "    if win =100:\n",
    "        print(\"you are powerful\")\n",
    "pick_number()\n",
    "\n"
   ]
  },
  {
   "cell_type": "code",
   "execution_count": 5,
   "metadata": {},
   "outputs": [
    {
     "output_type": "error",
     "ename": "SyntaxError",
     "evalue": "invalid syntax (<ipython-input-5-342aa9af7618>, line 9)",
     "traceback": [
      "\u001b[1;36m  File \u001b[1;32m\"<ipython-input-5-342aa9af7618>\"\u001b[1;36m, line \u001b[1;32m9\u001b[0m\n\u001b[1;33m    n2 == 0:\u001b[0m\n\u001b[1;37m            ^\u001b[0m\n\u001b[1;31mSyntaxError\u001b[0m\u001b[1;31m:\u001b[0m invalid syntax\n"
     ]
    }
   ],
   "source": [
    "##you cant use elif without if\n",
    "def is_possitive():\n",
    "    # input () and return str\n",
    "    user_input = input(\"please enter a numnber\")\n",
    "    n2 = int(user_input)\n",
    "    if n2 > 0:\n",
    "        print(\"possitive\")\n",
    "    #elif:\n",
    "        n2 == 0:\n",
    "        #print(\"zero\")\n",
    "    else:\n",
    "        print(\"negative\")\n",
    "\n",
    "    "
   ]
  },
  {
   "cell_type": "code",
   "execution_count": 2,
   "metadata": {},
   "outputs": [
    {
     "output_type": "error",
     "ename": "NameError",
     "evalue": "name 'is_possitive' is not defined",
     "traceback": [
      "\u001b[1;31m---------------------------------------------------------------------------\u001b[0m",
      "\u001b[1;31mNameError\u001b[0m                                 Traceback (most recent call last)",
      "\u001b[1;32m<ipython-input-2-2a21b92fe93d>\u001b[0m in \u001b[0;36m<module>\u001b[1;34m\u001b[0m\n\u001b[1;32m----> 1\u001b[1;33m \u001b[0mis_possitive\u001b[0m\u001b[1;33m(\u001b[0m\u001b[1;33m)\u001b[0m\u001b[1;33m\u001b[0m\u001b[1;33m\u001b[0m\u001b[0m\n\u001b[0m",
      "\u001b[1;31mNameError\u001b[0m: name 'is_possitive' is not defined"
     ]
    }
   ],
   "source": [
    "is_possitive()"
   ]
  },
  {
   "cell_type": "code",
   "execution_count": null,
   "metadata": {},
   "outputs": [],
   "source": []
  },
  {
   "cell_type": "code",
   "execution_count": 6,
   "metadata": {},
   "outputs": [],
   "source": [
    "#Excercise:\n",
    "#Define a function \n",
    "#we will decide  the day of the week this number"
   ]
  },
  {
   "cell_type": "code",
   "execution_count": 16,
   "metadata": {},
   "outputs": [],
   "source": [
    "def day_of_week():\n",
    "    #ask number of the day\n",
    "    numer_of_the_day = input(\"please enter a number (1-7): \")\n",
    "    name_of_day = \"\"\n",
    "\n",
    "    if numer_of_the_day == 1:\n",
    "        name_of_day = \"Monday\"\n",
    "    elif numer_of_the_day == 2:\n",
    "        name_of_day = \"Tuesday\"\n",
    "    elif numer_of_the_day == 3:\n",
    "        name_of_day = \"Wednesday\"\n",
    "    elif numer_of_the_day == 4:\n",
    "        name_of_day = \"Thursday\"\n",
    "    elif numer_of_the_day == 5:\n",
    "        name_of_day = \"Friday\"\n",
    "day_of_week()"
   ]
  },
  {
   "cell_type": "code",
   "execution_count": 18,
   "metadata": {},
   "outputs": [],
   "source": [
    "day_of_week()"
   ]
  },
  {
   "cell_type": "code",
   "execution_count": 22,
   "metadata": {},
   "outputs": [
    {
     "output_type": "stream",
     "name": "stdout",
     "text": [
      "talk to your manager\n"
     ]
    }
   ],
   "source": [
    "def hours_worked():\n",
    "    number_of_hours_works = input(\"Please enter the number of hours worked per day (1-8): \")\n",
    "    day_worked = \"\"\n",
    "\n",
    "    if number_of_hours_works == 4:\n",
    "        day_worked = \"Monday\"\n",
    "    elif number_of_hours_works == 8:\n",
    "        day_worked = \"Wednesday\"\n",
    "    else:\n",
    "        print(\"talk to your manager\")\n",
    "hours_worked()\n",
    "    "
   ]
  },
  {
   "cell_type": "code",
   "execution_count": 23,
   "metadata": {},
   "outputs": [
    {
     "output_type": "stream",
     "name": "stdout",
     "text": [
      "talk to your manager\n"
     ]
    }
   ],
   "source": [
    "hours_worked()"
   ]
  },
  {
   "cell_type": "code",
   "execution_count": 25,
   "metadata": {},
   "outputs": [
    {
     "output_type": "error",
     "ename": "NameError",
     "evalue": "name 'bank' is not defined",
     "traceback": [
      "\u001b[1;31m---------------------------------------------------------------------------\u001b[0m",
      "\u001b[1;31mNameError\u001b[0m                                 Traceback (most recent call last)",
      "\u001b[1;32m<ipython-input-25-2cc0defc7f27>\u001b[0m in \u001b[0;36m<module>\u001b[1;34m\u001b[0m\n\u001b[0;32m      2\u001b[0m     \u001b[0mbank_branch\u001b[0m \u001b[1;33m=\u001b[0m \u001b[0minput\u001b[0m\u001b[1;33m(\u001b[0m\u001b[1;34m\"please enter your branch name\"\u001b[0m\u001b[1;33m)\u001b[0m\u001b[1;33m\u001b[0m\u001b[1;33m\u001b[0m\u001b[0m\n\u001b[0;32m      3\u001b[0m     \u001b[0mbank\u001b[0m \u001b[1;33m=\u001b[0m \u001b[0mbank_branch\u001b[0m\u001b[1;33m\u001b[0m\u001b[1;33m\u001b[0m\u001b[0m\n\u001b[1;32m----> 4\u001b[1;33m \u001b[1;32mif\u001b[0m \u001b[0mbank\u001b[0m \u001b[1;33m==\u001b[0m \u001b[1;34m\"Td\"\u001b[0m\u001b[1;33m:\u001b[0m\u001b[1;33m\u001b[0m\u001b[1;33m\u001b[0m\u001b[0m\n\u001b[0m\u001b[0;32m      5\u001b[0m     \u001b[0mprint\u001b[0m\u001b[1;33m(\u001b[0m\u001b[1;34m\"welcome to Td\"\u001b[0m\u001b[1;33m)\u001b[0m\u001b[1;33m\u001b[0m\u001b[1;33m\u001b[0m\u001b[0m\n\u001b[0;32m      6\u001b[0m \u001b[1;32melse\u001b[0m\u001b[1;33m:\u001b[0m\u001b[1;33m\u001b[0m\u001b[1;33m\u001b[0m\u001b[0m\n",
      "\u001b[1;31mNameError\u001b[0m: name 'bank' is not defined"
     ]
    }
   ],
   "source": [
    "def bank_name():\n",
    "    bank_branch = input(\"please enter your branch name\")\n",
    "    bank = bank_branch\n",
    "if bank == \"Td\":\n",
    "    print(\"welcome to Td\")\n",
    "else:\n",
    "    print(\"welcome to the banking giant\")\n",
    "bank_name()\n",
    "\n"
   ]
  },
  {
   "cell_type": "code",
   "execution_count": 29,
   "metadata": {},
   "outputs": [
    {
     "output_type": "stream",
     "name": "stdout",
     "text": [
      "I love you Elvis\n"
     ]
    }
   ],
   "source": [
    "person = \"Elvis\"\n",
    "\n",
    "if person == \"Dan\":\n",
    "    print(\"welcome dan\")\n",
    "elif person == \"John\":\n",
    "    print(\"keep looking for Elvis\")\n",
    "elif person == \"Wan\":\n",
    "    print(\"offer him a seat\")\n",
    "else:\n",
    "    print(\"I love you Elvis\")\n"
   ]
  },
  {
   "cell_type": "code",
   "execution_count": 30,
   "metadata": {},
   "outputs": [
    {
     "output_type": "stream",
     "name": "stdout",
     "text": [
      "provision an asg\n"
     ]
    }
   ],
   "source": [
    "aws_az = \"us_east1\"\n",
    "if aws_az == \"us_east1\":\n",
    "    print(\"provision an asg\")\n",
    "elif aws_az ==\"us_east2\":\n",
    "    print(\"provision ec2 intances\")\n",
    "else:\n",
    "    print(\"refer to documentation regardinging your task\")"
   ]
  },
  {
   "cell_type": "code",
   "execution_count": null,
   "metadata": {},
   "outputs": [],
   "source": []
  }
 ],
 "metadata": {
  "kernelspec": {
   "name": "python385jvsc74a57bd07feb4705c68ae6516b089deea33a5828fe4d228922a7169027787f754ef2f937",
   "display_name": "Python 3.8.5 64-bit ('base': conda)"
  }
 },
 "nbformat": 4,
 "nbformat_minor": 4
}