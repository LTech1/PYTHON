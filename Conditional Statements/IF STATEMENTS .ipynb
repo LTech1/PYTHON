{
 "cells": [
  {
   "cell_type": "code",
   "execution_count": 2,
   "metadata": {},
   "outputs": [],
   "source": [
    "x = 7\n",
    "\n",
    "if x > 7:\n",
    "    print(\"is greaterr than 7\")"
   ]
  },
  {
   "cell_type": "code",
   "execution_count": 3,
   "metadata": {},
   "outputs": [
    {
     "name": "stdout",
     "output_type": "stream",
     "text": [
      "welcome to canada\n"
     ]
    }
   ],
   "source": [
    "print(\"welcome to canada\")"
   ]
  },
  {
   "cell_type": "code",
   "execution_count": 5,
   "metadata": {},
   "outputs": [],
   "source": [
    "x = 7\n",
    "if x > 7:\n",
    "    print(\"is greater than 7\")"
   ]
  },
  {
   "cell_type": "code",
   "execution_count": 6,
   "metadata": {},
   "outputs": [
    {
     "name": "stdout",
     "output_type": "stream",
     "text": [
      "100\n"
     ]
    }
   ],
   "source": [
    "a = 10\n",
    "b = 90 \n",
    "\n",
    "ab = a + b \n",
    "\n",
    "print (ab)"
   ]
  },
  {
   "cell_type": "code",
   "execution_count": 7,
   "metadata": {},
   "outputs": [
    {
     "ename": "SyntaxError",
     "evalue": "invalid syntax (<ipython-input-7-f9ab68308339>, line 4)",
     "output_type": "error",
     "traceback": [
      "\u001b[1;36m  File \u001b[1;32m\"<ipython-input-7-f9ab68308339>\"\u001b[1;36m, line \u001b[1;32m4\u001b[0m\n\u001b[1;33m    if x >10 and <=10:\u001b[0m\n\u001b[1;37m                 ^\u001b[0m\n\u001b[1;31mSyntaxError\u001b[0m\u001b[1;31m:\u001b[0m invalid syntax\n"
     ]
    }
   ],
   "source": [
    "# if x is greater than and less than or equal to 10, print it \n",
    "\n",
    "x = 10 \n",
    "if x > 0  and x <= 10:\n",
    "    print(\"result\")"
   ]
  },
  {
   "cell_type": "code",
   "execution_count": 8,
   "metadata": {},
   "outputs": [
    {
     "name": "stdout",
     "output_type": "stream",
     "text": [
      "----------\n",
      "--------\n"
     ]
    }
   ],
   "source": [
    "x = 20 \n",
    "\n",
    "print (\"----------\")\n",
    "if x > 0 and x <= 17:\n",
    "    print(\"{} is greater than 0 and less than or equal to 10.\" .format(x))\n",
    "print(\"--------\")"
   ]
  },
  {
   "cell_type": "code",
   "execution_count": 9,
   "metadata": {},
   "outputs": [
    {
     "name": "stdout",
     "output_type": "stream",
     "text": [
      "----------\n",
      "8 is greater than 0 and less than or equal to 10.\n",
      "--------\n"
     ]
    }
   ],
   "source": [
    "x = 8\n",
    "\n",
    "print (\"----------\")\n",
    "if x > 0 and x <= 17:\n",
    "    print(\"{} is greater than 0 and less than or equal to 10.\" .format(x))\n",
    "print(\"--------\")"
   ]
  },
  {
   "cell_type": "code",
   "execution_count": 11,
   "metadata": {},
   "outputs": [
    {
     "name": "stdout",
     "output_type": "stream",
     "text": [
      "----------\n",
      "19 is greater than 0 and less than or equal to 20.\n",
      "--------\n"
     ]
    }
   ],
   "source": [
    "#if x is greater than or equal to 0 and less than 20, print i \n",
    "x = 19 \n",
    "\n",
    "print (\"----------\")\n",
    "if x > 0 and x <= 20:\n",
    "    print(\"{} is greater than 0 and less than or equal to 20.\" .format(x))\n",
    "print(\"--------\")"
   ]
  },
  {
   "cell_type": "code",
   "execution_count": 12,
   "metadata": {},
   "outputs": [
    {
     "name": "stdout",
     "output_type": "stream",
     "text": [
      "----------\n",
      "--------\n"
     ]
    }
   ],
   "source": [
    "x = -6 \n",
    "\n",
    "print (\"----------\")\n",
    "if x > 0 and x <= 20:\n",
    "    print(\"{} is greater than 0 and less than or equal to 20.\" .format(x))\n",
    "print(\"--------\")"
   ]
  },
  {
   "cell_type": "code",
   "execution_count": 14,
   "metadata": {},
   "outputs": [
    {
     "name": "stdout",
     "output_type": "stream",
     "text": [
      "-----\n"
     ]
    }
   ],
   "source": [
    "## or \n",
    "# if x is greater  than 100 or less than 0 \n",
    "\n",
    "x = 90\n",
    "\n",
    "if x >= 100 or x < 0:\n",
    "    print([\"{} is greater than 100 or less than 0.\" .format(x)])\n",
    "print(\"-----\")"
   ]
  },
  {
   "cell_type": "code",
   "execution_count": 15,
   "metadata": {},
   "outputs": [
    {
     "name": "stdout",
     "output_type": "stream",
     "text": [
      "porduct is affordable\n"
     ]
    }
   ],
   "source": [
    "price = 100 #cad\n",
    "\n",
    "if price > 100 or price < 100:\n",
    "    print(\"product is affordablee\")\n",
    "print(\"porduct is affordable\")"
   ]
  },
  {
   "cell_type": "code",
   "execution_count": 17,
   "metadata": {},
   "outputs": [
    {
     "name": "stdout",
     "output_type": "stream",
     "text": [
      "renogotiate\n",
      "accept job offer and organise a thanksgiving party to praise God\n"
     ]
    }
   ],
   "source": [
    "salary = 190000 #cad salary for devops engineer\n",
    "\n",
    "if salary >= 100000 or salary < 100000:\n",
    "    print(\"renogotiate\")\n",
    "    print(\"accept job offer and organise a thanksgiving party to praise God\")"
   ]
  },
  {
   "cell_type": "code",
   "execution_count": 18,
   "metadata": {},
   "outputs": [
    {
     "name": "stdout",
     "output_type": "stream",
     "text": [
      "----------\n",
      "19 is greater than 0 and less than or equal to 20.\n",
      "--------\n"
     ]
    }
   ],
   "source": [
    "x = 19 \n",
    "\n",
    "print (\"----------\")\n",
    "if x > 0 and x <= 20:\n",
    "    print(\"{} is greater than 0 and less than or equal to 20.\" .format(x))\n",
    "print(\"--------\")"
   ]
  },
  {
   "cell_type": "code",
   "execution_count": 19,
   "metadata": {},
   "outputs": [
    {
     "name": "stdout",
     "output_type": "stream",
     "text": [
      "----------\n",
      "--------\n"
     ]
    }
   ],
   "source": [
    "x = -19\n",
    "\n",
    "print (\"----------\")\n",
    "if x > 0 and x <= 20:\n",
    "    print(\"{} is greater than 0 and less than or equal to 20.\" .format(x))\n",
    "print(\"--------\")"
   ]
  },
  {
   "cell_type": "code",
   "execution_count": null,
   "metadata": {},
   "outputs": [],
   "source": []
  }
 ],
 "metadata": {
  "kernelspec": {
   "display_name": "Python 3",
   "language": "python",
   "name": "python3"
  },
  "language_info": {
   "codemirror_mode": {
    "name": "ipython",
    "version": 3
   },
   "file_extension": ".py",
   "mimetype": "text/x-python",
   "name": "python",
   "nbconvert_exporter": "python",
   "pygments_lexer": "ipython3",
   "version": "3.8.5"
  }
 },
 "nbformat": 4,
 "nbformat_minor": 4
}
