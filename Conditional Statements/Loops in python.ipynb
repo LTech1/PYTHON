{
 "cells": [
  {
   "cell_type": "markdown",
   "metadata": {},
   "source": [
    "#  FOR LOOPS ( Here's the general format for a for loop in Python:\n",
    "\n",
    "for item in object:\n",
    "    statements to do stuff"
   ]
  },
  {
   "cell_type": "code",
   "execution_count": 1,
   "metadata": {},
   "outputs": [],
   "source": [
    "list1 = [1,2,3,4,5,6,7,8]"
   ]
  },
  {
   "cell_type": "code",
   "execution_count": 2,
   "metadata": {},
   "outputs": [
    {
     "name": "stdout",
     "output_type": "stream",
     "text": [
      "1\n",
      "2\n",
      "3\n",
      "4\n",
      "5\n",
      "6\n",
      "7\n",
      "8\n"
     ]
    }
   ],
   "source": [
    "for num in list1:\n",
    "    print(num)"
   ]
  },
  {
   "cell_type": "code",
   "execution_count": 4,
   "metadata": {},
   "outputs": [
    {
     "name": "stdout",
     "output_type": "stream",
     "text": [
      "keep trying\n",
      "2\n",
      "keep trying\n",
      "4\n",
      "keep trying\n",
      "6\n",
      "keep trying\n",
      "8\n"
     ]
    }
   ],
   "source": [
    "for num in list1:\n",
    "    if num % 2 == 0:\n",
    "        print(num)\n",
    "    else:\n",
    "        print(\"keep trying\")"
   ]
  },
  {
   "cell_type": "code",
   "execution_count": null,
   "metadata": {},
   "outputs": [],
   "source": [
    "for num in list1:\n",
    "    if num % 2 == 0:  ## if \n",
    "        print(num)\n",
    "    else:\n",
    "        print(\"odd nuumber\")"
   ]
  },
  {
   "cell_type": "code",
   "execution_count": 5,
   "metadata": {},
   "outputs": [
    {
     "output_type": "stream",
     "name": "stdout",
     "text": [
      "47\n"
     ]
    }
   ],
   "source": [
    "##Another common idea during a for loop is keeping some sort of running tally during multiple loops. For example, let's create a for loop that sums up the list:\n",
    "\n",
    "list1 = [1,2,3,4,5,6,7,9]\n",
    "\n",
    "list_sum = 10\n",
    "\n",
    "for num in list1:\n",
    "    list_sum += num\n",
    "print(list_sum)"
   ]
  },
  {
   "cell_type": "code",
   "execution_count": 9,
   "metadata": {},
   "outputs": [
    {
     "output_type": "stream",
     "name": "stdout",
     "text": [
      "370\n"
     ]
    }
   ],
   "source": [
    "price  = [20,30,40,50,60,70]\n",
    "\n",
    "price_sum = 100  # as we change the price_sum variable, the output keeps changin\n",
    "\n",
    "for num in price:\n",
    "    price_sum += num\n",
    "print(price_sum)"
   ]
  },
  {
   "cell_type": "code",
   "execution_count": 10,
   "metadata": {},
   "outputs": [
    {
     "output_type": "stream",
     "name": "stdout",
     "text": [
      "I\n \na\nm\n \na\n \np\nr\no\nu\nd\n \nl\na\nn\nd\nm\na\nr\nk\n \nT\ne\nc\nh\nn\no\nl\no\ng\ny\n \nb\nr\na\nn\nd\n \na\nm\nb\na\ns\ns\na\nd\no\nr\n"
     ]
    }
   ],
   "source": [
    "##Remember strings are a sequence so when we iterate through them we will be accessing each item in that string.\n",
    "for letter in \"I am a proud landmark Technology brand ambassador\" :\n",
    "    print(letter)"
   ]
  },
  {
   "cell_type": "code",
   "execution_count": 11,
   "metadata": {},
   "outputs": [
    {
     "output_type": "stream",
     "name": "stdout",
     "text": [
      "i\n \nl\no\nv\ne\n \nD\nE\nV\nO\nP\nS\n"
     ]
    }
   ],
   "source": [
    "for letter in \"i love DEVOPS\" : \n",
    "    print(letter)"
   ]
  },
  {
   "cell_type": "code",
   "execution_count": 12,
   "metadata": {},
   "outputs": [
    {
     "output_type": "stream",
     "name": "stdout",
     "text": [
      "1\n2\n3\n4\n5\n"
     ]
    }
   ],
   "source": [
    "##Let's now look at how a for loop can be used with a tuple:\n",
    "\n",
    "tup = (1,2,3,4,5)\n",
    "\n",
    "for t in tup:\n",
    "    print(t)"
   ]
  },
  {
   "cell_type": "code",
   "execution_count": 18,
   "metadata": {},
   "outputs": [
    {
     "output_type": "stream",
     "name": "stdout",
     "text": [
      "(2, 4)\n(4, 6)\n"
     ]
    }
   ],
   "source": [
    "##Tuples have a special quality when it comes to for loops. If you are iterating through a sequence that contains tuples, the item can actually be the tuple itself, this is an example of tuple unpacking. During the for loop we will be unpacking the tuple inside of a sequence and we can access the individual items inside that tuple!\n",
    "\n",
    "\n",
    "lists3 = [(2,4),(4,6)]\n",
    "\n",
    "for tup in lists3:\n",
    "    print(tup)\n"
   ]
  },
  {
   "cell_type": "code",
   "execution_count": 21,
   "metadata": {},
   "outputs": [
    {
     "output_type": "stream",
     "name": "stdout",
     "text": [
      "4\n6\n"
     ]
    }
   ],
   "source": [
    "for (t1,t2) in lists3:\n",
    "    print(t2)"
   ]
  },
  {
   "cell_type": "code",
   "execution_count": null,
   "metadata": {},
   "outputs": [],
   "source": []
  }
 ],
 "metadata": {
  "kernelspec": {
   "name": "python385jvsc74a57bd07feb4705c68ae6516b089deea33a5828fe4d228922a7169027787f754ef2f937",
   "display_name": "Python 3.8.5 64-bit ('base': conda)"
  },
  "language_info": {
   "codemirror_mode": {
    "name": "ipython",
    "version": 3
   },
   "file_extension": ".py",
   "mimetype": "text/x-python",
   "name": "python",
   "nbconvert_exporter": "python",
   "pygments_lexer": "ipython3",
   "version": "3.8.5"
  }
 },
 "nbformat": 4,
 "nbformat_minor": 4
}