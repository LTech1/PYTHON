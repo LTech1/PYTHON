{
 "cells": [
  {
   "cell_type": "code",
   "execution_count": 3,
   "metadata": {},
   "outputs": [
    {
     "name": "stdout",
     "output_type": "stream",
     "text": [
      "sorry we try again next time\n"
     ]
    }
   ],
   "source": [
    "x = 1000\n",
    "if x ==900:\n",
    "    print(\"we have a deal\")\n",
    "else:\n",
    "    \n",
    "    print(\"sorry we try again next time\")"
   ]
  },
  {
   "cell_type": "code",
   "execution_count": 5,
   "metadata": {},
   "outputs": [
    {
     "name": "stdout",
     "output_type": "stream",
     "text": [
      "enter your price \n",
      "900\n"
     ]
    },
    {
     "ename": "TypeError",
     "evalue": "'<' not supported between instances of 'str' and 'int'",
     "output_type": "error",
     "traceback": [
      "\u001b[1;31m---------------------------------------------------------------------------\u001b[0m",
      "\u001b[1;31mTypeError\u001b[0m                                 Traceback (most recent call last)",
      "\u001b[1;32m<ipython-input-5-fb427ad96d18>\u001b[0m in \u001b[0;36m<module>\u001b[1;34m\u001b[0m\n\u001b[0;32m      3\u001b[0m \u001b[0mprice\u001b[0m \u001b[1;33m==\u001b[0m \u001b[1;36m1350\u001b[0m \u001b[1;31m#cad\u001b[0m\u001b[1;33m\u001b[0m\u001b[1;33m\u001b[0m\u001b[0m\n\u001b[0;32m      4\u001b[0m \u001b[1;33m\u001b[0m\u001b[0m\n\u001b[1;32m----> 5\u001b[1;33m \u001b[1;32mif\u001b[0m \u001b[0mprice\u001b[0m \u001b[1;33m<\u001b[0m \u001b[1;36m1350\u001b[0m\u001b[1;33m:\u001b[0m\u001b[1;33m\u001b[0m\u001b[1;33m\u001b[0m\u001b[0m\n\u001b[0m\u001b[0;32m      6\u001b[0m     \u001b[0mprint\u001b[0m\u001b[1;33m(\u001b[0m\u001b[1;34m\"sorry you cant buy the good\"\u001b[0m\u001b[1;33m)\u001b[0m\u001b[1;33m\u001b[0m\u001b[1;33m\u001b[0m\u001b[0m\n\u001b[0;32m      7\u001b[0m \u001b[1;32melse\u001b[0m\u001b[1;33m:\u001b[0m\u001b[1;33m\u001b[0m\u001b[1;33m\u001b[0m\u001b[0m\n",
      "\u001b[1;31mTypeError\u001b[0m: '<' not supported between instances of 'str' and 'int'"
     ]
    }
   ],
   "source": [
    "price = input(\"enter your price \\n\")\n",
    "\n",
    "price == 1350 #cad\n",
    "\n",
    "if price < 1350:\n",
    "    print(\"sorry you cant buy the good\")\n",
    "else:\n",
    "    print(\"thank you for shooping at walmart\")"
   ]
  },
  {
   "cell_type": "code",
   "execution_count": 4,
   "metadata": {},
   "outputs": [
    {
     "output_type": "stream",
     "name": "stdout",
     "text": [
      "--- before if bloock ---\nEVEN\n--- after if block ----\n"
     ]
    }
   ],
   "source": [
    "##else is alternative execution, most of the time we need more than one conditions to check, for multiple checks we use else with if\n",
    "\n",
    "#if x is an even number , print even \n",
    "# if not (else ) print odd\n",
    "# for even , it must be divided by two with no remainer\n",
    "x = 100 \n",
    "print(\"--- before if bloock ---\")\n",
    "if x % 2 == 0:\n",
    "    print(\"EVEN\")\n",
    "else:\n",
    "    print(\"ODD\")\n",
    "\n",
    "print(\"--- after if block ----\")"
   ]
  },
  {
   "cell_type": "code",
   "execution_count": 9,
   "metadata": {},
   "outputs": [
    {
     "output_type": "stream",
     "name": "stdout",
     "text": [
      "welcome to walmart\n"
     ]
    }
   ],
   "source": [
    "print(\"welcome to walmart\")\n",
    "lnaguage = input(\"please enter your favorite programming language\")\n",
    "language = \"python\"\n",
    "if language == \"python\":\n",
    "    print(\"request for interview with applicant\")\n",
    "else:\n",
    "    print(\"consider other applicant\")"
   ]
  },
  {
   "cell_type": "code",
   "execution_count": null,
   "metadata": {},
   "outputs": [],
   "source": [
    "## if X is an integer, print Interger \n",
    "\n",
    "x = 9\n",
    "if type(X) == int:\n",
    "    print(\"interger\")"
   ]
  },
  {
   "cell_type": "code",
   "execution_count": 2,
   "metadata": {},
   "outputs": [
    {
     "output_type": "stream",
     "name": "stdout",
     "text": [
      "not interget\n"
     ]
    }
   ],
   "source": [
    "height = 100.90 # incm \n",
    "if type(height) == int:\n",
    "    print(\"Interger\")\n",
    "else:\n",
    "    print(\"not interget\")"
   ]
  },
  {
   "cell_type": "code",
   "execution_count": 8,
   "metadata": {},
   "outputs": [
    {
     "output_type": "error",
     "ename": "TypeError",
     "evalue": "'>' not supported between instances of 'str' and 'int'",
     "traceback": [
      "\u001b[1;31m---------------------------------------------------------------------------\u001b[0m",
      "\u001b[1;31mTypeError\u001b[0m                                 Traceback (most recent call last)",
      "\u001b[1;32m<ipython-input-8-731df3a15ee6>\u001b[0m in \u001b[0;36m<module>\u001b[1;34m\u001b[0m\n\u001b[0;32m      2\u001b[0m \u001b[0mweight\u001b[0m \u001b[1;33m==\u001b[0m \u001b[1;36m190\u001b[0m    \u001b[1;31m##in LB\u001b[0m\u001b[1;33m\u001b[0m\u001b[1;33m\u001b[0m\u001b[0m\n\u001b[0;32m      3\u001b[0m \u001b[1;33m\u001b[0m\u001b[0m\n\u001b[1;32m----> 4\u001b[1;33m \u001b[1;32mif\u001b[0m \u001b[0mweight\u001b[0m \u001b[1;33m>\u001b[0m \u001b[1;36m100\u001b[0m\u001b[1;33m:\u001b[0m\u001b[1;33m\u001b[0m\u001b[1;33m\u001b[0m\u001b[0m\n\u001b[0m\u001b[0;32m      5\u001b[0m     \u001b[0mprint\u001b[0m\u001b[1;33m(\u001b[0m\u001b[1;34m\"exercise more\"\u001b[0m\u001b[1;33m)\u001b[0m\u001b[1;33m\u001b[0m\u001b[1;33m\u001b[0m\u001b[0m\n\u001b[0;32m      6\u001b[0m \u001b[1;32melse\u001b[0m\u001b[1;33m:\u001b[0m\u001b[1;33m\u001b[0m\u001b[1;33m\u001b[0m\u001b[0m\n",
      "\u001b[1;31mTypeError\u001b[0m: '>' not supported between instances of 'str' and 'int'"
     ]
    }
   ],
   "source": [
    "weight = input(\"please enter your weight in kg\\n\")\n",
    "weight == 190    ##in LB\n",
    "\n",
    "if weight > 100:\n",
    "    print(\"exercise more\")\n",
    "else:\n",
    "    print(\"you are healthy\")"
   ]
  },
  {
   "cell_type": "code",
   "execution_count": 9,
   "metadata": {},
   "outputs": [
    {
     "output_type": "stream",
     "name": "stdout",
     "text": [
      "EVEN\n"
     ]
    }
   ],
   "source": [
    "x = 17\n",
    "\n",
    "if x % 2 == 0:\n",
    "    print(\"ODD\")\n",
    "else:\n",
    "    print(\"EVEN\")"
   ]
  },
  {
   "cell_type": "code",
   "execution_count": 10,
   "metadata": {},
   "outputs": [
    {
     "output_type": "execute_result",
     "data": {
      "text/plain": [
       "2"
      ]
     },
     "metadata": {},
     "execution_count": 10
    }
   ],
   "source": [
    "2 % 17 "
   ]
  },
  {
   "cell_type": "code",
   "execution_count": 12,
   "metadata": {},
   "outputs": [],
   "source": [
    "x = 5\n",
    "if False:\n",
    "    x -= 1\n",
    "else:\n",
    "    x += 1"
   ]
  },
  {
   "cell_type": "code",
   "execution_count": 16,
   "metadata": {},
   "outputs": [
    {
     "output_type": "stream",
     "name": "stdout",
     "text": [
      "welcome to  our branch how can we serve u today\n"
     ]
    }
   ],
   "source": [
    "Bank = \"BMO\"\n",
    "\n",
    "if Bank == \"BMO\":\n",
    "    print(\"welcome to  our branch how can we serve u today\")\n",
    "else:\n",
    "    print(\"How may we transfer your request today\")"
   ]
  },
  {
   "cell_type": "code",
   "execution_count": 10,
   "metadata": {},
   "outputs": [
    {
     "output_type": "stream",
     "name": "stdout",
     "text": [
      "your investment is save\n"
     ]
    }
   ],
   "source": [
    "loc = 'Bank'\n",
    "if loc == 'Autoshop':\n",
    "    print('welcome to Autoshop')\n",
    "elif loc == 'cityhall':\n",
    "    print('welcome to barrie and how can we help')\n",
    "elif loc == 'Bank':\n",
    "    print(\"your investment is save\")\n",
    "elif loc == 'Barrie':\n",
    "    print(\"welcome to the land of boats\")\n",
    "else:\n",
    "    print('sorry, we could not help you, goodluck as you try different locations')"
   ]
  },
  {
   "cell_type": "code",
   "execution_count": 12,
   "metadata": {},
   "outputs": [
    {
     "output_type": "stream",
     "name": "stdout",
     "text": [
      "refer to documentation\n"
     ]
    }
   ],
   "source": [
    "tools = 'Maven'\n",
    "if tools == 'Jenkins':\n",
    "    print(\"install plugins\")\n",
    "elif tools == 'docker':\n",
    "    print('included dockerfile in src')\n",
    "elif tools == 'ansible':\n",
    "    print('configure all hosts and deploy to target environment')\n",
    "else:\n",
    "    print('refer to documentation')"
   ]
  },
  {
   "cell_type": "code",
   "execution_count": 15,
   "metadata": {},
   "outputs": [
    {
     "output_type": "stream",
     "name": "stdout",
     "text": [
      "keep searching throught the records\n"
     ]
    }
   ],
   "source": [
    "student = 'Elvis'\n",
    "if student == 'Dan':\n",
    "    print('ask for indentification document')\n",
    "elif student == 'Joyce':\n",
    "    print('welcome to Landmark Technologies')\n",
    "elif student == 'Paul':\n",
    "    print('Best maths student of the year')\n",
    "else:\n",
    "    print(\"keep searching throught the records\")"
   ]
  },
  {
   "cell_type": "code",
   "execution_count": 17,
   "metadata": {},
   "outputs": [
    {
     "output_type": "stream",
     "name": "stdout",
     "text": [
      "good job everyone\n"
     ]
    }
   ],
   "source": [
    "employee = 'Divine'\n",
    "if employee == 'Lovet':\n",
    "    print('best employee of the year2021')\n",
    "elif employee == 'Elvis':\n",
    "    print('best automation engineer of the year 2021')\n",
    "elif employee == 'Dan':\n",
    "    print('best infrastructure engineer of the year')\n",
    "else:\n",
    "    print('good job everyone')"
   ]
  },
  {
   "cell_type": "code",
   "execution_count": null,
   "metadata": {},
   "outputs": [],
   "source": []
  }
 ],
 "metadata": {
  "kernelspec": {
   "name": "python385jvsc74a57bd07feb4705c68ae6516b089deea33a5828fe4d228922a7169027787f754ef2f937",
   "display_name": "Python 3.8.5 64-bit ('base': conda)"
  },
  "language_info": {
   "codemirror_mode": {
    "name": "ipython",
    "version": 3
   },
   "file_extension": ".py",
   "mimetype": "text/x-python",
   "name": "python",
   "nbconvert_exporter": "python",
   "pygments_lexer": "ipython3",
   "version": "3.8.5"
  }
 },
 "nbformat": 4,
 "nbformat_minor": 4
}