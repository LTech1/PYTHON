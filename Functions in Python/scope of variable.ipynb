{
 "cells": [
  {
   "cell_type": "code",
   "execution_count": 1,
   "metadata": {},
   "outputs": [],
   "source": [
    "#scope is the region where the variables exit. \n",
    "# scope is determined by indentation in python. \n"
   ]
  },
  {
   "cell_type": "code",
   "execution_count": 2,
   "metadata": {},
   "outputs": [
    {
     "output_type": "stream",
     "name": "stdout",
     "text": [
      "9000\n"
     ]
    }
   ],
   "source": [
    "def price_discount():\n",
    "    price = 9000\n",
    "    print(price)\n",
    "price_discount()"
   ]
  },
  {
   "cell_type": "code",
   "execution_count": 3,
   "metadata": {},
   "outputs": [
    {
     "output_type": "execute_result",
     "data": {
      "text/plain": [
       "100"
      ]
     },
     "metadata": {},
     "execution_count": 3
    }
   ],
   "source": [
    "# global scope \n",
    "short = 100\n",
    "long = 60\n",
    "\n",
    "short"
   ]
  },
  {
   "cell_type": "code",
   "execution_count": 4,
   "metadata": {},
   "outputs": [
    {
     "output_type": "execute_result",
     "data": {
      "text/plain": [
       "60"
      ]
     },
     "metadata": {},
     "execution_count": 4
    }
   ],
   "source": [
    "long"
   ]
  },
  {
   "cell_type": "code",
   "execution_count": 5,
   "metadata": {},
   "outputs": [],
   "source": [
    "def perimeter():\n",
    "    area_rec = short * long\n",
    "    print(area_rec)"
   ]
  },
  {
   "cell_type": "code",
   "execution_count": 6,
   "metadata": {},
   "outputs": [
    {
     "output_type": "stream",
     "name": "stdout",
     "text": [
      "6000\n"
     ]
    }
   ],
   "source": [
    "perimeter()"
   ]
  },
  {
   "cell_type": "code",
   "execution_count": 7,
   "metadata": {},
   "outputs": [],
   "source": [
    "#try to change the global variable again \n",
    "\n",
    "def change_global():\n",
    "    short = 9000\n",
    "    print(short)"
   ]
  },
  {
   "cell_type": "code",
   "execution_count": 8,
   "metadata": {},
   "outputs": [
    {
     "output_type": "stream",
     "name": "stdout",
     "text": [
      "9000\n"
     ]
    }
   ],
   "source": [
    "change_global()"
   ]
  },
  {
   "cell_type": "code",
   "execution_count": 10,
   "metadata": {},
   "outputs": [
    {
     "output_type": "stream",
     "name": "stdout",
     "text": [
      "80000\n9000\n"
     ]
    }
   ],
   "source": [
    "## to change global variable you need to use the global keyword\n",
    "\n",
    "global short\n",
    "short = 80000\n",
    "print(short)\n",
    "\n",
    "change_global()"
   ]
  },
  {
   "cell_type": "code",
   "execution_count": 11,
   "metadata": {},
   "outputs": [
    {
     "output_type": "execute_result",
     "data": {
      "text/plain": [
       "80000"
      ]
     },
     "metadata": {},
     "execution_count": 11
    }
   ],
   "source": [
    "short"
   ]
  },
  {
   "cell_type": "code",
   "execution_count": 12,
   "metadata": {},
   "outputs": [
    {
     "output_type": "execute_result",
     "data": {
      "text/plain": [
       "80000"
      ]
     },
     "metadata": {},
     "execution_count": 12
    }
   ],
   "source": [
    "short"
   ]
  },
  {
   "cell_type": "code",
   "execution_count": null,
   "metadata": {},
   "outputs": [],
   "source": []
  }
 ],
 "metadata": {
  "kernelspec": {
   "name": "python385jvsc74a57bd07feb4705c68ae6516b089deea33a5828fe4d228922a7169027787f754ef2f937",
   "display_name": "Python 3.8.5 64-bit ('base': conda)"
  }
 },
 "nbformat": 4,
 "nbformat_minor": 4
}