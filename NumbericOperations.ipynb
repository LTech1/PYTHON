{
 "cells": [
  {
   "cell_type": "code",
   "execution_count": 7,
   "metadata": {},
   "outputs": [
    {
     "output_type": "stream",
     "name": "stdout",
     "text": [
      "97\n630\n12\n12.857142857142858\n47829690000000\n4408.888888888889\n10\n"
     ]
    }
   ],
   "source": [
    "# define two variable \n",
    "a = 90\n",
    "\n",
    "b = 7 \n",
    "\n",
    "print(a + b)  ## adition\n",
    "print (a * b)  # multiplication \n",
    "print (a // b ) # flooor division \n",
    "print ( a / b ) # division \n",
    "print  ( a**b) #power operation\n",
    "\n",
    "##PEDMAS\n",
    "\n",
    "print ( 50 * 90 - 100 + 800 /90)\n",
    "\n",
    "##increment by 1\n",
    "\n",
    "a = 9\n",
    "a = a + 1\n",
    "\n",
    "print(a)"
   ]
  },
  {
   "cell_type": "code",
   "execution_count": 13,
   "metadata": {},
   "outputs": [],
   "source": [
    "city_pop = set([200,4000,6000,7000])\n"
   ]
  },
  {
   "cell_type": "code",
   "execution_count": 20,
   "metadata": {},
   "outputs": [
    {
     "output_type": "error",
     "ename": "IndentationError",
     "evalue": "unexpected indent (<ipython-input-20-9d368a27820a>, line 16)",
     "traceback": [
      "\u001b[1;36m  File \u001b[1;32m\"<ipython-input-20-9d368a27820a>\"\u001b[1;36m, line \u001b[1;32m16\u001b[0m\n\u001b[1;33m    price = 70000\u001b[0m\n\u001b[1;37m    ^\u001b[0m\n\u001b[1;31mIndentationError\u001b[0m\u001b[1;31m:\u001b[0m unexpected indent\n"
     ]
    }
   ],
   "source": [
    "a = 100\n",
    "a +=1   # a = a +1\n",
    "\n",
    "a -=1 \n",
    "\n",
    "print(a)\n",
    "\n",
    "\n",
    "# short hand for minus \n",
    "\n",
    "a = 1000\n",
    "\n",
    "a -=1\n",
    "\n",
    "print(a)\n",
    " price = 70000\n",
    "\n",
    " price -= 600\n",
    " print(price)"
   ]
  },
  {
   "cell_type": "code",
   "execution_count": 22,
   "metadata": {},
   "outputs": [
    {
     "output_type": "stream",
     "name": "stdout",
     "text": [
      "35000\n3181.818181818182\n"
     ]
    }
   ],
   "source": [
    "a = 7000\n",
    "\n",
    "a *= 5\n",
    "\n",
    "print(a)\n",
    "\n",
    "a /= 11\n",
    "\n",
    "print (a)   ##shorthand  increment"
   ]
  },
  {
   "cell_type": "code",
   "execution_count": 25,
   "metadata": {},
   "outputs": [
    {
     "output_type": "stream",
     "name": "stdout",
     "text": [
      "5000\n"
     ]
    }
   ],
   "source": [
    "y = 10000\n",
    "\n",
    "##y *= 100  ##multiply y by 1000\n",
    "##y += 50000   ## increased y by 5000\n",
    "\n",
    "y -= 5000\n",
    "\n",
    "print(y)"
   ]
  },
  {
   "cell_type": "code",
   "execution_count": 27,
   "metadata": {},
   "outputs": [
    {
     "output_type": "stream",
     "name": "stdout",
     "text": [
      "3.7037037037037033\n"
     ]
    },
    {
     "output_type": "execute_result",
     "data": {
      "text/plain": [
       "float"
      ]
     },
     "metadata": {},
     "execution_count": 27
    }
   ],
   "source": [
    "books_list =  5000000\n",
    "\n",
    "books_list = books_list  / 30000\n",
    "\n",
    "books_list /= 45\n",
    "\n",
    "print(books_list)\n",
    "type(books_list)"
   ]
  },
  {
   "cell_type": "code",
   "execution_count": 28,
   "metadata": {},
   "outputs": [
    {
     "output_type": "stream",
     "name": "stdout",
     "text": [
      "canada\n"
     ]
    }
   ],
   "source": [
    "country = \"canada\"\n",
    "print(country)"
   ]
  },
  {
   "cell_type": "code",
   "execution_count": null,
   "metadata": {},
   "outputs": [],
   "source": []
  }
 ],
 "metadata": {
  "kernelspec": {
   "name": "python385jvsc74a57bd07feb4705c68ae6516b089deea33a5828fe4d228922a7169027787f754ef2f937",
   "display_name": "Python 3.8.5 64-bit ('base': conda)"
  },
  "language_info": {
   "codemirror_mode": {
    "name": "ipython",
    "version": 3
   },
   "file_extension": ".py",
   "mimetype": "text/x-python",
   "name": "python",
   "nbconvert_exporter": "python",
   "pygments_lexer": "ipython3",
   "version": "3.8.5"
  }
 },
 "nbformat": 4,
 "nbformat_minor": 4
}