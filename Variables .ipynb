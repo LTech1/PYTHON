{
 "cells": [
  {
   "cell_type": "code",
   "execution_count": 4,
   "metadata": {},
   "outputs": [
    {
     "output_type": "stream",
     "name": "stdout",
     "text": [
      "100\n110\n"
     ]
    },
    {
     "output_type": "execute_result",
     "data": {
      "text/plain": [
       "float"
      ]
     },
     "metadata": {},
     "execution_count": 4
    }
   ],
   "source": [
    "a = 10 \n",
    "b = 10 \n",
    "\n",
    "ab = a * b \n",
    "\n",
    "print (ab)\n",
    "type (ab)\n",
    "\n",
    "a = 10 \n",
    "b = 100\n",
    "\n",
    "ab = a + b \n",
    "print(ab)\n",
    "\n",
    "type (1.3)"
   ]
  },
  {
   "cell_type": "code",
   "execution_count": null,
   "metadata": {},
   "outputs": [],
   "source": []
  },
  {
   "cell_type": "code",
   "execution_count": null,
   "metadata": {},
   "outputs": [],
   "source": []
  },
  {
   "cell_type": "code",
   "execution_count": 11,
   "metadata": {},
   "outputs": [
    {
     "output_type": "stream",
     "name": "stdout",
     "text": [
      "100.0983\n[1, 2, 3, 4, 5]\n('A', 'B', 'C')\nrange(0, 10)\n"
     ]
    }
   ],
   "source": [
    "interger = 18 \n",
    "type(interger)\n",
    "floating_print_number = 100.0983\n",
    "print(floating_print_number)\n",
    "my_list = [1,2,3,4,5]\n",
    "print(my_list)\n",
    "type(my_list)\n",
    "\n",
    "tripple = ('A', 'B', 'C')\n",
    "print (tripple)\n",
    "to_ten = range(10)\n",
    "print(to_ten)"
   ]
  },
  {
   "cell_type": "code",
   "execution_count": 13,
   "metadata": {},
   "outputs": [
    {
     "output_type": "execute_result",
     "data": {
      "text/plain": [
       "type"
      ]
     },
     "metadata": {},
     "execution_count": 13
    }
   ],
   "source": [
    "type(range)"
   ]
  },
  {
   "cell_type": "code",
   "execution_count": 14,
   "metadata": {},
   "outputs": [
    {
     "output_type": "stream",
     "name": "stdout",
     "text": [
      "0\n1\n2\n3\n4\n5\n6\n7\n8\n9\n"
     ]
    }
   ],
   "source": [
    "for i in to_ten:\n",
    "    print(i)"
   ]
  },
  {
   "cell_type": "code",
   "execution_count": 15,
   "metadata": {},
   "outputs": [],
   "source": [
    "##Dictionary"
   ]
  },
  {
   "cell_type": "code",
   "execution_count": 17,
   "metadata": {},
   "outputs": [
    {
     "output_type": "stream",
     "name": "stdout",
     "text": [
      "{'name': 'Elvis', 'lastname': 'Nketi', 'sex': 'male'}\n"
     ]
    }
   ],
   "source": [
    "students_details = {\n",
    "    \"name\" : \"Elvis\",\n",
    "     \"lastname\": \"Nketi\",\n",
    "     \"sex\" :  \"male\"\n",
    "}\n",
    "\n",
    "print(students_details)"
   ]
  },
  {
   "cell_type": "code",
   "execution_count": 19,
   "metadata": {},
   "outputs": [
    {
     "output_type": "stream",
     "name": "stdout",
     "text": [
      "{'apple': '20', 'books': '40', 'city': 'orillia'}\n"
     ]
    }
   ],
   "source": [
    "price_list = {\n",
    "    \"apple\" : \"20\",\n",
    "    \"books\" : \"40\",\n",
    "    \"city\": \"orillia\"\n",
    "}\n",
    "\n",
    "print(price_list)"
   ]
  },
  {
   "cell_type": "code",
   "execution_count": 20,
   "metadata": {},
   "outputs": [
    {
     "output_type": "stream",
     "name": "stdout",
     "text": [
      "{'name': 'joyce'}\n"
     ]
    }
   ],
   "source": [
    "club_members = {\n",
    "    \"name\" : \"elvis\",\n",
    "     \"name\" : \"john\",\n",
    "     \"name\" : \"simon\",\n",
    "     \"name\" : \"joyce\"\n",
    "}\n",
    "\n",
    "print(club_members)"
   ]
  },
  {
   "cell_type": "code",
   "execution_count": 21,
   "metadata": {},
   "outputs": [
    {
     "output_type": "execute_result",
     "data": {
      "text/plain": [
       "dict"
      ]
     },
     "metadata": {},
     "execution_count": 21
    }
   ],
   "source": [
    "type(club_members)"
   ]
  },
  {
   "cell_type": "code",
   "execution_count": 23,
   "metadata": {},
   "outputs": [
    {
     "output_type": "stream",
     "name": "stdout",
     "text": [
      "{1, 2, 3, 4, 5, 6, 7, 8}\n"
     ]
    },
    {
     "output_type": "execute_result",
     "data": {
      "text/plain": [
       "set"
      ]
     },
     "metadata": {},
     "execution_count": 23
    }
   ],
   "source": [
    "set_of_numbers = set([1,2,3,4,5,6,7,8,])\n",
    "print(set_of_numbers)\n",
    "type(set_of_numbers)"
   ]
  },
  {
   "cell_type": "code",
   "execution_count": 28,
   "metadata": {},
   "outputs": [
    {
     "output_type": "stream",
     "name": "stdout",
     "text": [
      "{3000, 1001, 100, 5000}\n[100, 500, 8000]\n"
     ]
    },
    {
     "output_type": "execute_result",
     "data": {
      "text/plain": [
       "list"
      ]
     },
     "metadata": {},
     "execution_count": 28
    }
   ],
   "source": [
    "car_price = set([100,1001,3000,5000])\n",
    "print(car_price)\n",
    "type(car_price)\n",
    "\n",
    "price_book = list([100,500,8000])\n",
    "print(price_book)\n",
    "type(price_book)"
   ]
  },
  {
   "cell_type": "code",
   "execution_count": 30,
   "metadata": {},
   "outputs": [
    {
     "output_type": "stream",
     "name": "stdout",
     "text": [
      "{'orillia': '10000', 'barrie': '60000', 'toronto': '7000', 'montreal': '90000', 'edmonto': '150000'}\n"
     ]
    }
   ],
   "source": [
    "city_income = {\n",
    "    \"orillia\" : \"10000\",\n",
    "    \"barrie\"  : \"60000\" , \n",
    "    \"toronto\"  : \"7000\" ,\n",
    "    \"montreal\" : \"90000\",\n",
    "    \"edmonto\"  : \"150000\"\n",
    " }\n",
    "\n",
    "print(city_income)"
   ]
  },
  {
   "cell_type": "code",
   "execution_count": 33,
   "metadata": {},
   "outputs": [
    {
     "output_type": "stream",
     "name": "stdout",
     "text": [
      "['us-east-1', 'us-east-2', 'us-east-3']\n"
     ]
    },
    {
     "output_type": "execute_result",
     "data": {
      "text/plain": [
       "list"
      ]
     },
     "metadata": {},
     "execution_count": 33
    }
   ],
   "source": [
    "availability_zones = [\"us-east-1\", \"us-east-2\", \"us-east-3\"]\n",
    "type(availability_zones)\n",
    "print(availability_zones)\n",
    "\n",
    "devop_tools = [\"git\", \"jenkins\", \"maven\", \"teraform\", \"docker\", \"k8s\", \"ansible\"]\n",
    "type(devop_tools)"
   ]
  },
  {
   "cell_type": "code",
   "execution_count": 35,
   "metadata": {},
   "outputs": [
    {
     "output_type": "execute_result",
     "data": {
      "text/plain": [
       "bool"
      ]
     },
     "metadata": {},
     "execution_count": 35
    }
   ],
   "source": [
    "correct = True\n",
    "wrong = False \n",
    "\n",
    "type (correct)\n",
    "type (wrong)"
   ]
  },
  {
   "cell_type": "code",
   "execution_count": null,
   "metadata": {},
   "outputs": [],
   "source": []
  }
 ],
 "metadata": {
  "kernelspec": {
   "name": "python385jvsc74a57bd07feb4705c68ae6516b089deea33a5828fe4d228922a7169027787f754ef2f937",
   "display_name": "Python 3.8.5 64-bit ('base': conda)"
  },
  "language_info": {
   "codemirror_mode": {
    "name": "ipython",
    "version": 3
   },
   "file_extension": ".py",
   "mimetype": "text/x-python",
   "name": "python",
   "nbconvert_exporter": "python",
   "pygments_lexer": "ipython3",
   "version": "3.8.5"
  }
 },
 "nbformat": 4,
 "nbformat_minor": 4
}