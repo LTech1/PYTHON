{
 "cells": [
  {
   "cell_type": "code",
   "execution_count": 9,
   "metadata": {},
   "outputs": [
    {
     "output_type": "stream",
     "name": "stdout",
     "text": [
      "Devops Team\nelvis\n{'SRE': 'BMO', 'IAS': 'TERRAFORM', 'AUTOMATION': 'JENKINS', 'CONFIGURATIONMANAGEMENT': 'ANSIBLE'}\nclass23\n"
     ]
    }
   ],
   "source": [
    "##in Python strings are displayed  via double quotes \"\" or single quote ('')\n",
    "## Opening and closing quotes should march\n",
    "\n",
    "availabilty_zone = \"elvis\"\n",
    "tags = \"Devops Team\"\n",
    "print(tags)\n",
    "print(availabilty_zone)\n",
    "\n",
    "team_devops = {\n",
    "    \"SRE\" :  \"BMO\",\n",
    "    \"IAS\" : \"TERRAFORM\",\n",
    "     \"AUTOMATION\" : \"JENKINS\",\n",
    "     \"CONFIGURATIONMANAGEMENT\" : \"ANSIBLE\"\n",
    "}\n",
    "\n",
    "print(team_devops)\n",
    "type(team_devops)\n",
    "\n",
    "students_batch = \"class23\"\n",
    "\n",
    "print(students_batch)\n",
    "\n",
    "#if you need both single and double quotes in a strings\n",
    "# EOL = END OF LINE\n",
    "\n",
    "\n"
   ]
  },
  {
   "cell_type": "code",
   "execution_count": 18,
   "metadata": {},
   "outputs": [
    {
     "output_type": "stream",
     "name": "stdout",
     "text": [
      "John is a good boy, \"he runs every morninf\"\ni love Canada, 'i and my family love it here'\n"
     ]
    },
    {
     "output_type": "execute_result",
     "data": {
      "text/plain": [
       "'lovelovelovelovelovelovelovelovelovelovelovelovelovelovelovelovelovelovelovelovelovelovelovelovelovelovelovelovelovelovelovelovelovelovelovelovelovelovelovelovelovelovelovelovelovelovelovelovelovelove'"
      ]
     },
     "metadata": {},
     "execution_count": 18
    }
   ],
   "source": [
    "double_in_single =   'John is a good boy, \"he runs every morninf\"'\n",
    "print(double_in_single)\n",
    "\n",
    "single_in_double = \"i love Canada, 'i and my family love it here'\"\n",
    "print(single_in_double)\n",
    "\n",
    "##in python we can do arithmetic operations for strings\n",
    "## for exmaple \n",
    "####**Exceptional Case** + and ** is possible \n",
    "\n",
    "first = \"sunnny\"\n",
    "second = \"days\"\n",
    "first + second   ###concatenation\n",
    "\n",
    "\n",
    "####multipl;ication in strings\n",
    "\n",
    "4 * second\n",
    "\n",
    "6 * '5'\n",
    "50 * 'love'"
   ]
  },
  {
   "cell_type": "code",
   "execution_count": 21,
   "metadata": {},
   "outputs": [
    {
     "output_type": "stream",
     "name": "stdout",
     "text": [
      "i love you' and my wife\n"
     ]
    }
   ],
   "source": [
    "##  \n",
    "\n",
    "print(\"i love you' and my wife\")"
   ]
  },
  {
   "cell_type": "code",
   "execution_count": null,
   "metadata": {},
   "outputs": [],
   "source": []
  }
 ],
 "metadata": {
  "kernelspec": {
   "name": "python385jvsc74a57bd07feb4705c68ae6516b089deea33a5828fe4d228922a7169027787f754ef2f937",
   "display_name": "Python 3.8.5 64-bit ('base': conda)"
  }
 },
 "nbformat": 4,
 "nbformat_minor": 4
}